{
 "cells": [
  {
   "cell_type": "markdown",
   "metadata": {},
   "source": [
    "# AAI Assignment 5\n",
    "Zhicong Sun  SID: 12032471\n",
    "## Question 1  \n",
    "For a policy that always takes the action ‘produce’ in the ‘Good’ state, determine the ‘Good’ state value $ v_\\pi(g) $ and ‘Broken’ state value $ v_\\pi(b) $.\n",
    "## Answer 1:\n",
    "$\\pi$ is a deterministic policy in this situation.\n",
    "\n",
    "$$ \n",
    "v_\\pi(g) = E[G_t|\\pi,S_t = g] = E[R_t + \\gamma G_{t+1}|\\pi,S_t = g] = E[R_t + \\gamma v_\\pi (S_{t+1})|\\pi,S_t = g]\\\\\n",
    "=\\sum_{s^{'}\\in S} P(g,\\pi (g),s^{'}) ( \\it R(g,\\pi (g),s^{'}) + \\gamma v_\\pi(s^{'}))\\\\\n",
    "=0.9 \\times (1+0.9 \\times v_\\pi(g)) + 0.1 \\times (0+0.9 \\times v_\\pi(b))\\\\\n",
    "=0.81 \\times v_\\pi(g) + 0.09 \\times v_\\pi(b) + 0.9\n",
    "$$\n",
    "\n",
    "$$ \n",
    "v_\\pi(b) = E[G_t|\\pi,S_t = b] = E[R_t + \\gamma G_{t+1}|\\pi,S_t = b] = E[R_t + \\gamma v_\\pi (S_{t+1})|\\pi,S_t = b]\\\\\n",
    "=\\sum_{s^{'}\\in S} P(g,\\pi (g),s^{'}) ( \\it R(g,\\pi (g),s^{'}) + \\gamma v_\\pi(s^{'}))\\\\\n",
    "=0.9 \\times (0+0.9 \\times v_\\pi(g)) + 0.1 \\times (-10+0.9 \\times v_\\pi(b))\\\\\n",
    "=0.81 \\times v_\\pi(g) + 0.09 \\times v_\\pi(b) -1\n",
    "$$\n",
    "Combine two equations above, we can get that: $ v_\\pi(g) \\approx 7.290 $, $ v_\\pi(g) \\approx 5.390 $\n",
    "\n",
    "\n",
    "## Question 2\n",
    "\n",
    "Denote the optimal value function in the ‘Good’ state by $v^{*}(g)$ and that in the ‘Broken’ state by $v^{*}(b)$. In order to determine the optimal policy, specify the relations between $v^{*}(g)$ and $v^{*}(g)$ in two equations and write a program to compute values of $v^{*}(g)$ and $v^{*}(g)$. You need to put the source code at the end of the report.\n",
    "## Answer 2:\n",
    "\n",
    "There are two actions in the 'Good' state.  \n",
    "When it takes the 'Produce' action, $ v_{\\pi}(g) = 0.81 \\times v^{*}_\\pi(g) + 0.09 \\times v^{*}_\\pi(b) + 0.9$  \n",
    "When it takes the 'Inactive' action,   \n",
    "$$ \n",
    "v_{\\pi}(g) = =\\sum_{s^{'}\\in S} P(g,\\pi (g),s^{'}) ( \\it R(g,\\pi (g),s^{'}) + \\gamma v^{*}_\\pi(s^{'}))\\\\\n",
    "= 1 \\times (0+0.9 \\times v^{*}_\\pi(b)) =  0.9 \\times v^{*}_\\pi(b)\n",
    "$$\n",
    "so $ v^{*}(g) = \\underset {a \\in A}{max} = \\underset {a \\in A}{max} (0.81 \\times v^{*}(g) + 0.09 \\times v^{*}(b) + 0.9,  0.9 \\times v^{*}(b) )$  \n",
    "\n",
    "There is only one action in the 'Broken' state. so \n",
    "$$\n",
    "v^{*}(b) = 0.81 \\times v^{*}(g) + 0.09 \\times v^{*}(b) -1\n",
    "$$\n",
    "\n",
    "\n",
    "\n",
    "## Code:\n",
    "\n"
   ]
  },
  {
   "cell_type": "code",
   "execution_count": 1,
   "metadata": {},
   "outputs": [
    {
     "name": "stdout",
     "output_type": "stream",
     "text": [
      "\n",
      "-----------------\n",
      "action: Produce\n",
      "5.3899911173599\n",
      "7.2899911173599\n",
      "\n",
      "-----------------\n",
      "action: Inactive\n",
      "-5.524853749304403\n",
      "-4.972367561457781\n",
      "-----------------\n",
      "choose action 'Produce'\n"
     ]
    }
   ],
   "source": [
    "theta = 0.000001\n",
    "vg_list = []\n",
    "\n",
    "actions = ['Produce','Inactive']\n",
    "\n",
    "for action in actions:\n",
    "    vb_pre = 0\n",
    "    vg_pre = 0\n",
    "    while True:\n",
    "        vb = 0.81 * vg_pre + 0.09 * vb_pre - 1 \n",
    "        if action == 'Produce':\n",
    "            vg = 0.81 * vg_pre + 0.09 * vb_pre + 0.9\n",
    "        else:\n",
    "            vg = 0.9 * vb_pre\n",
    "        if (abs(vb-vb_pre) < theta) & (abs(vg-vg_pre) < theta):\n",
    "            break\n",
    "        else:\n",
    "            vb_pre = vb\n",
    "            vg_pre = vg\n",
    "    vg_list.append(vg)\n",
    "    print('\\n-----------------')\n",
    "    print('action:',action)\n",
    "    print(vb)\n",
    "    print(vg)\n",
    "print('-----------------')\n",
    "if vg_list.index(max(vg_list)) == 0:\n",
    "    print(\"choose action 'Produce'\")\n",
    "else:\n",
    "    print(\"choose action 'Inactive'\")"
   ]
  }
 ],
 "metadata": {
  "kernelspec": {
   "display_name": "Python 3",
   "language": "python",
   "name": "python3"
  },
  "language_info": {
   "codemirror_mode": {
    "name": "ipython",
    "version": 3
   },
   "file_extension": ".py",
   "mimetype": "text/x-python",
   "name": "python",
   "nbconvert_exporter": "python",
   "pygments_lexer": "ipython3",
   "version": "3.7.6"
  }
 },
 "nbformat": 4,
 "nbformat_minor": 2
}
